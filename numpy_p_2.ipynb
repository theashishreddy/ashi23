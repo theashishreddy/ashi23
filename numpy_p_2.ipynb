{
  "cells": [
    {
      "cell_type": "markdown",
      "metadata": {
        "id": "view-in-github",
        "colab_type": "text"
      },
      "source": [
        "<a href=\"https://colab.research.google.com/github/theashishreddy/ashi23/blob/master/numpy_p_2.ipynb\" target=\"_parent\"><img src=\"https://colab.research.google.com/assets/colab-badge.svg\" alt=\"Open In Colab\"/></a>"
      ]
    },
    {
      "cell_type": "code",
      "source": [
        "import numpy as np\n",
        "arr=np.array([1,2,3,4])\n",
        "result=np.add(arr,2)\n",
        "print(result)\n",
        "result=np.multiply(arr,2)"
      ],
      "metadata": {
        "colab": {
          "base_uri": "https://localhost:8080/"
        },
        "id": "SRHGhqs140Gr",
        "outputId": "deddd1f5-3fe6-44dd-f504-d9c026f60f6a"
      },
      "execution_count": null,
      "outputs": [
        {
          "output_type": "stream",
          "name": "stdout",
          "text": [
            "[3 4 5 6]\n"
          ]
        }
      ]
    },
    {
      "cell_type": "markdown",
      "source": [
        "**Trigonametry**"
      ],
      "metadata": {
        "id": "Z7icMxG6KS_7"
      }
    },
    {
      "cell_type": "code",
      "source": [
        "ang=np.array([1/4, 2/4])\n",
        "b=np.cosh(ang)\n",
        "print(ang)"
      ],
      "metadata": {
        "colab": {
          "base_uri": "https://localhost:8080/"
        },
        "id": "c1tptV0_6FUY",
        "outputId": "d77e546b-9611-477b-f985-779c832a84f6"
      },
      "execution_count": null,
      "outputs": [
        {
          "output_type": "stream",
          "name": "stdout",
          "text": [
            "[0.25 0.5 ]\n"
          ]
        }
      ]
    },
    {
      "cell_type": "markdown",
      "source": [
        "# exponential"
      ],
      "metadata": {
        "id": "Ssh_aw-zKN1v"
      }
    },
    {
      "cell_type": "code",
      "source": [
        "result=np.exp(arr)\n",
        "print(result)\n",
        "result1=np.log(arr)\n",
        "print(result1)"
      ],
      "metadata": {
        "colab": {
          "base_uri": "https://localhost:8080/"
        },
        "id": "TfLtOBAY_SjF",
        "outputId": "59edd2f4-5e41-4a7e-b310-e41156b93e5f"
      },
      "execution_count": null,
      "outputs": [
        {
          "output_type": "stream",
          "name": "stdout",
          "text": [
            "[ 2.71828183  7.3890561  20.08553692 54.59815003]\n",
            "[0.         0.69314718 1.09861229 1.38629436]\n"
          ]
        }
      ]
    },
    {
      "cell_type": "markdown",
      "source": [
        "**Statistical**"
      ],
      "metadata": {
        "id": "xIBH6za-AGa9"
      }
    },
    {
      "cell_type": "code",
      "source": [
        "b=np.mean(arr)\n",
        "c=np.std(arr)\n",
        "print(arr)\n",
        "print(b)\n",
        "print(c)"
      ],
      "metadata": {
        "colab": {
          "base_uri": "https://localhost:8080/"
        },
        "id": "tvIbNrd__h0k",
        "outputId": "4818cb8d-442e-45f1-c047-8d94e1b9feba"
      },
      "execution_count": null,
      "outputs": [
        {
          "output_type": "stream",
          "name": "stdout",
          "text": [
            "[1 2 3 4]\n",
            "2.5\n",
            "1.118033988749895\n"
          ]
        }
      ]
    },
    {
      "cell_type": "markdown",
      "source": [
        "**comparison**"
      ],
      "metadata": {
        "id": "z6dDyq9IAA7Z"
      }
    },
    {
      "cell_type": "code",
      "source": [
        "a=np.array([1,2,3])\n",
        "b=np.array([4,5,6])\n",
        "conc=np.concatenate((a,b))\n",
        "print(conc)"
      ],
      "metadata": {
        "colab": {
          "base_uri": "https://localhost:8080/"
        },
        "id": "cRLnn_yDAE9m",
        "outputId": "ee4e64e2-1b9c-4433-a557-fd794adbc662"
      },
      "execution_count": null,
      "outputs": [
        {
          "output_type": "stream",
          "name": "stdout",
          "text": [
            "[1 2 3 4 5 6]\n"
          ]
        }
      ]
    },
    {
      "cell_type": "code",
      "source": [
        "res=np.greater(a,b)\n",
        "print(res)\n",
        "lesst=np.less(a,b)\n",
        "print(lesst)\n"
      ],
      "metadata": {
        "colab": {
          "base_uri": "https://localhost:8080/"
        },
        "id": "egJJJfeIAfrc",
        "outputId": "7dd6275c-f352-4fb0-bdae-4cbc073cc709"
      },
      "execution_count": null,
      "outputs": [
        {
          "output_type": "stream",
          "name": "stdout",
          "text": [
            "[False False False]\n",
            "[ True  True  True]\n"
          ]
        }
      ]
    },
    {
      "cell_type": "markdown",
      "source": [
        "# **broadcasting**\n"
      ],
      "metadata": {
        "id": "0Aw3lSGXAW8a"
      }
    },
    {
      "cell_type": "code",
      "source": [
        "print(arr)\n",
        "broad=arr+2\n",
        "print(broad)"
      ],
      "metadata": {
        "colab": {
          "base_uri": "https://localhost:8080/"
        },
        "id": "m_VIrG8hA0Kb",
        "outputId": "7147f5f8-c761-42c0-b8dc-740b80cbb7c5"
      },
      "execution_count": null,
      "outputs": [
        {
          "output_type": "stream",
          "name": "stdout",
          "text": [
            "[1 2 3 4]\n",
            "[3 4 5 6]\n"
          ]
        }
      ]
    },
    {
      "cell_type": "markdown",
      "source": [
        "# Array **Manipulation**\n"
      ],
      "metadata": {
        "id": "n7KrA4imBBav"
      }
    },
    {
      "cell_type": "code",
      "source": [
        "#reshape\n",
        "print(arr)\n",
        "res=arr.reshape(2,2)\n",
        "print(res)"
      ],
      "metadata": {
        "colab": {
          "base_uri": "https://localhost:8080/"
        },
        "id": "MsYGqnzEBG-Y",
        "outputId": "5e278294-37bc-4e58-bc27-e5b3c613aef6"
      },
      "execution_count": null,
      "outputs": [
        {
          "output_type": "stream",
          "name": "stdout",
          "text": [
            "[1 2 3 4]\n",
            "[[1 2]\n",
            " [3 4]]\n"
          ]
        }
      ]
    },
    {
      "cell_type": "code",
      "source": [
        "#resize\n",
        "d=np.array([1,2,3,4,5,6])\n",
        "print(d)\n",
        "d.resize(2,5)\n",
        "print(d)"
      ],
      "metadata": {
        "colab": {
          "base_uri": "https://localhost:8080/"
        },
        "id": "qHPJJKc0BXY3",
        "outputId": "a7be166c-94e2-4c4d-d592-106c8f9d9e35"
      },
      "execution_count": null,
      "outputs": [
        {
          "output_type": "stream",
          "name": "stdout",
          "text": [
            "[1 2 3 4 5 6]\n",
            "[[1 2 3 4 5]\n",
            " [6 0 0 0 0]]\n"
          ]
        }
      ]
    },
    {
      "cell_type": "code",
      "source": [
        "#Ravel\n",
        "a=np.array([[1,2,3],[4,5,6]])\n",
        "rav=a.ravel()\n",
        "print(rav)\n",
        "print(a)"
      ],
      "metadata": {
        "colab": {
          "base_uri": "https://localhost:8080/"
        },
        "id": "4q8GSPppBytY",
        "outputId": "d1d5fd0c-d77f-4108-f92a-e9fc084b0d2b"
      },
      "execution_count": null,
      "outputs": [
        {
          "output_type": "stream",
          "name": "stdout",
          "text": [
            "[1 2 3 4 5 6]\n",
            "[[1 2 3]\n",
            " [4 5 6]]\n"
          ]
        }
      ]
    },
    {
      "cell_type": "markdown",
      "source": [
        "**Flatten**\n",
        "same like ravel , but flatten does'nt modify original one\n"
      ],
      "metadata": {
        "id": "3UUrxfWOCwPg"
      }
    },
    {
      "cell_type": "code",
      "source": [
        "'''a=[[1 2 3]\n",
        " [4 5 6]]'''\n",
        "b=a.ravel()\n",
        "b[0]=78\n",
        "print(a)\n",
        "# Flatten\n",
        "c=a.flatten()\n",
        "c[0]=90\n",
        "print(a)"
      ],
      "metadata": {
        "colab": {
          "base_uri": "https://localhost:8080/"
        },
        "id": "Qscf5hYGC-wk",
        "outputId": "9f66ee26-ceed-4bf9-e7aa-102460d4de08"
      },
      "execution_count": null,
      "outputs": [
        {
          "output_type": "stream",
          "name": "stdout",
          "text": [
            "[[78  2  3]\n",
            " [ 4  5  6]]\n",
            "[[78  2  3]\n",
            " [ 4  5  6]]\n"
          ]
        }
      ]
    },
    {
      "cell_type": "markdown",
      "source": [
        "***squeeze***\n",
        "remove axes of length one from array, remove dimensions"
      ],
      "metadata": {
        "id": "vsmRC_3SESLx"
      }
    },
    {
      "cell_type": "code",
      "source": [
        "d=np.array([[1,2,3,4,5,6]])\n",
        "print(d.shape)\n",
        "e=np.squeeze(d)\n",
        "print(e)\n",
        "print(e.shape)"
      ],
      "metadata": {
        "colab": {
          "base_uri": "https://localhost:8080/"
        },
        "id": "Nlr82ukFEUZt",
        "outputId": "01cad71b-7d3f-42d1-d86a-7b26b8daaf5a"
      },
      "execution_count": null,
      "outputs": [
        {
          "output_type": "stream",
          "name": "stdout",
          "text": [
            "(1, 6)\n",
            "[1 2 3 4 5 6]\n",
            "(6,)\n"
          ]
        }
      ]
    },
    {
      "cell_type": "markdown",
      "source": [
        "**Expand dimensions**"
      ],
      "metadata": {
        "id": "c1Y1we1gE4zF"
      }
    },
    {
      "cell_type": "code",
      "source": [
        "expand=np.expand_dims(e,axis=1)\n",
        "print(expand)\n",
        "print(expand.shape)"
      ],
      "metadata": {
        "colab": {
          "base_uri": "https://localhost:8080/"
        },
        "id": "-cwXGoChE8-w",
        "outputId": "76025851-3c3d-4cbe-eb53-b8d0f06f2cf5"
      },
      "execution_count": null,
      "outputs": [
        {
          "output_type": "stream",
          "name": "stdout",
          "text": [
            "[[1]\n",
            " [2]\n",
            " [3]\n",
            " [4]\n",
            " [5]\n",
            " [6]]\n",
            "(6, 1)\n"
          ]
        }
      ]
    },
    {
      "cell_type": "markdown",
      "source": [
        "# **Splitting And joining**"
      ],
      "metadata": {
        "id": "xOgxx6_mGLBL"
      }
    },
    {
      "cell_type": "code",
      "source": [
        "#1.split\n",
        "arr=np.array([1,2,3,4,5,6])\n",
        "newarr=np.split(arr,2)\n",
        "print(newarr)\n"
      ],
      "metadata": {
        "colab": {
          "base_uri": "https://localhost:8080/"
        },
        "id": "4BcjvqL0GTpo",
        "outputId": "edee6134-971d-4112-d85c-f266a1d81aba"
      },
      "execution_count": null,
      "outputs": [
        {
          "output_type": "stream",
          "name": "stdout",
          "text": [
            "[array([1, 2, 3]), array([4, 5, 6])]\n"
          ]
        }
      ]
    },
    {
      "cell_type": "markdown",
      "source": [
        "2) np.array_split"
      ],
      "metadata": {
        "id": "MisupaldGtqc"
      }
    },
    {
      "cell_type": "code",
      "source": [
        "asplit=np.array_split(arr,5)\n",
        "print(asplit)"
      ],
      "metadata": {
        "colab": {
          "base_uri": "https://localhost:8080/"
        },
        "id": "FK3v2gZwG3K4",
        "outputId": "5220ffd8-ab53-4397-dcab-5c534df448eb"
      },
      "execution_count": null,
      "outputs": [
        {
          "output_type": "stream",
          "name": "stdout",
          "text": [
            "[array([1, 2]), array([3]), array([4]), array([5]), array([6])]\n"
          ]
        }
      ]
    },
    {
      "cell_type": "markdown",
      "source": [
        "3. horizontal and vertical split"
      ],
      "metadata": {
        "id": "noecS1glHRRI"
      }
    },
    {
      "cell_type": "code",
      "source": [
        "h=np.array([[1,2,3],[4,5,6]])\n",
        "print(h)\n",
        "hsplit=np.hsplit(h,3)\n",
        "print(hsplit)\n",
        "print(\"vertical split\")\n",
        "vsplit=np.vsplit(h,2)\n",
        "print(vsplit)"
      ],
      "metadata": {
        "colab": {
          "base_uri": "https://localhost:8080/"
        },
        "id": "wyFuJu3wHaJC",
        "outputId": "4215eef9-21a4-46f6-fae5-0c354d429ac5"
      },
      "execution_count": null,
      "outputs": [
        {
          "output_type": "stream",
          "name": "stdout",
          "text": [
            "[[1 2 3]\n",
            " [4 5 6]]\n",
            "[array([[1],\n",
            "       [4]]), array([[2],\n",
            "       [5]]), array([[3],\n",
            "       [6]])]\n",
            "vertical split\n",
            "[array([[1, 2, 3]]), array([[4, 5, 6]])]\n"
          ]
        }
      ]
    },
    {
      "cell_type": "code",
      "source": [
        "print(\"horizontal combine\")\n",
        "hs=np.hstack((h,h))\n",
        "print(hs)\n",
        "\n",
        "print(\"vertical combine\")\n",
        "vs=np.vstack((h,h))\n",
        "print(vs)"
      ],
      "metadata": {
        "colab": {
          "base_uri": "https://localhost:8080/"
        },
        "id": "F3IhetaDI5zn",
        "outputId": "2fb1d446-c7fa-4af5-bb64-10a8cb8e05c7"
      },
      "execution_count": null,
      "outputs": [
        {
          "output_type": "stream",
          "name": "stdout",
          "text": [
            "horizontal combine\n",
            "[[1 2 3 1 2 3]\n",
            " [4 5 6 4 5 6]]\n",
            "vertical combine\n",
            "[[1 2 3]\n",
            " [4 5 6]\n",
            " [1 2 3]\n",
            " [4 5 6]]\n"
          ]
        }
      ]
    },
    {
      "cell_type": "markdown",
      "source": [
        "# **Adding and removing Elements**"
      ],
      "metadata": {
        "id": "QwKD3nsaJ27-"
      }
    },
    {
      "cell_type": "code",
      "source": [
        "g=np.array([1,2,3,4,5])\n",
        "g = np.append(g,(6))\n",
        "print(g)\n",
        "np.insert(g,2,7)\n"
      ],
      "metadata": {
        "colab": {
          "base_uri": "https://localhost:8080/"
        },
        "id": "eMBM_zniKCSS",
        "outputId": "c9ef1e0d-6817-4192-f7a6-368c0a3f9662"
      },
      "execution_count": null,
      "outputs": [
        {
          "output_type": "stream",
          "name": "stdout",
          "text": [
            "[1 2 3 4 5 6]\n"
          ]
        },
        {
          "output_type": "execute_result",
          "data": {
            "text/plain": [
              "array([1, 2, 7, 3, 4, 5, 6])"
            ]
          },
          "metadata": {},
          "execution_count": 168
        }
      ]
    },
    {
      "cell_type": "code",
      "source": [
        "#np.delete(g,2)\n",
        "np.delete(g,[0,2])"
      ],
      "metadata": {
        "colab": {
          "base_uri": "https://localhost:8080/"
        },
        "id": "1Zrs_0P2MCvK",
        "outputId": "28c2d850-7c47-48a1-af67-f2e737a62e49"
      },
      "execution_count": null,
      "outputs": [
        {
          "output_type": "execute_result",
          "data": {
            "text/plain": [
              "array([2, 4, 5, 6])"
            ]
          },
          "metadata": {},
          "execution_count": 170
        }
      ]
    },
    {
      "cell_type": "code",
      "source": [
        "j=np.array([[1,2,3],[4,5,6],[7,8,9]])\n",
        "resu=np.delete(j,2,axis=0)\n",
        "print(resu)\n",
        "res1=np.delete(j,2,axis=1)\n",
        "print(res1)"
      ],
      "metadata": {
        "colab": {
          "base_uri": "https://localhost:8080/"
        },
        "id": "8qm_lUDyMQUK",
        "outputId": "0dc96b73-e588-41b5-ac7c-5e5178ecc23c"
      },
      "execution_count": null,
      "outputs": [
        {
          "output_type": "stream",
          "name": "stdout",
          "text": [
            "[[1 2 3]\n",
            " [4 5 6]]\n",
            "[[1 2]\n",
            " [4 5]\n",
            " [7 8]]\n"
          ]
        }
      ]
    }
  ],
  "metadata": {
    "colab": {
      "toc_visible": true,
      "provenance": [],
      "include_colab_link": true
    },
    "kernelspec": {
      "display_name": "Python 3",
      "name": "python3"
    }
  },
  "nbformat": 4,
  "nbformat_minor": 0
}